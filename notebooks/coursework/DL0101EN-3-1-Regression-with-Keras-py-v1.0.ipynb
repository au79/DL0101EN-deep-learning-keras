{
 "cells": [
  {
   "cell_type": "markdown",
   "metadata": {
    "button": false,
    "new_sheet": false,
    "run_control": {
     "read_only": false
    }
   },
   "source": [
    "<a href=\"https://cognitiveclass.ai\"><img src = \"https://ibm.box.com/shared/static/9gegpsmnsoo25ikkbl4qzlvlyjbgxs5x.png\" width = 400> </a>\n",
    "\n",
    "<h1 align=center><font size = 5>Regression Models with Keras</font></h1>"
   ]
  },
  {
   "cell_type": "markdown",
   "metadata": {
    "button": false,
    "new_sheet": false,
    "run_control": {
     "read_only": false
    }
   },
   "source": [
    "## Introduction"
   ]
  },
  {
   "cell_type": "markdown",
   "metadata": {
    "button": false,
    "new_sheet": false,
    "run_control": {
     "read_only": false
    }
   },
   "source": [
    "As we discussed in the videos, despite the popularity of more powerful libraries such as PyToch and TensorFlow, they are not easy to use and have a steep learning curve. So, for people who are just starting to learn deep learning, there is no better library to use other than the keras library. \n",
    "\n",
    "Keras is a high-level API for building deep learning models. It has gained favor for its ease of use and syntactic simplicity facilitating fast development. As you will see in this lab and the other labs in this course, building a very complex deep learning network can be achieved with Keras with only few lines of code. You will appreciate Keras even more, once you learn how to build deep models using PyTorch and TensorFlow in the other courses.\n",
    "\n",
    "So, in this lab, you will learn how to use the Keras library to build a regression model."
   ]
  },
  {
   "cell_type": "markdown",
   "metadata": {
    "button": false,
    "new_sheet": false,
    "run_control": {
     "read_only": false
    }
   },
   "source": [
    "## Table of Contents\n",
    "\n",
    "<div class=\"alert alert-block alert-info\" style=\"margin-top: 20px\">\n",
    "\n",
    "<font size = 3> \n",
    "1. <a href=\"#item1\">Download and Clean Dataset</a>  \n",
    "2. <a href=\"#item2\">Import Keras</a>  \n",
    "3. <a href=\"#item3\">Build a Neural Network</a>  \n",
    "4. <a href=\"#item4\">Train and Test the Network</a>  \n",
    "</font>\n",
    "</div>"
   ]
  },
  {
   "cell_type": "markdown",
   "metadata": {
    "button": false,
    "new_sheet": false,
    "run_control": {
     "read_only": false
    }
   },
   "source": [
    "<a id=\"item1\"></a>"
   ]
  },
  {
   "cell_type": "markdown",
   "metadata": {
    "button": false,
    "new_sheet": false,
    "run_control": {
     "read_only": false
    }
   },
   "source": [
    "## Download and Clean Dataset"
   ]
  },
  {
   "cell_type": "markdown",
   "metadata": {
    "button": false,
    "new_sheet": false,
    "run_control": {
     "read_only": false
    }
   },
   "source": [
    "Let's start by importing the <em>pandas</em> and the Numpy libraries."
   ]
  },
  {
   "cell_type": "code",
   "execution_count": 46,
   "metadata": {
    "button": false,
    "new_sheet": false,
    "pycharm": {
     "is_executing": false
    },
    "run_control": {
     "read_only": false
    }
   },
   "outputs": [],
   "source": [
    "import pandas as pd\n",
    "import numpy as np"
   ]
  },
  {
   "cell_type": "markdown",
   "metadata": {
    "button": false,
    "new_sheet": false,
    "run_control": {
     "read_only": false
    }
   },
   "source": [
    "We will be playing around with the same dataset that we used in the videos.\n",
    "\n",
    "<strong>The dataset is about the compressive strength of different samples of concrete based on the volumes of the different materials that were used to make them. Ingredients include:</strong>\n",
    "\n",
    "<strong>1. Cement</strong>\n",
    "\n",
    "<strong>2. Blast Furnace Slag</strong>\n",
    "\n",
    "<strong>3. Fly Ash</strong>\n",
    "\n",
    "<strong>4. Water</strong>\n",
    "\n",
    "<strong>5. Superplasticizer</strong>\n",
    "\n",
    "<strong>6. Coarse Aggregate</strong>\n",
    "\n",
    "<strong>7. Fine Aggregate</strong>"
   ]
  },
  {
   "cell_type": "markdown",
   "metadata": {
    "button": false,
    "new_sheet": false,
    "run_control": {
     "read_only": false
    }
   },
   "source": [
    "Let's download the data and read it into a <em>pandas</em> dataframe."
   ]
  },
  {
   "cell_type": "code",
   "execution_count": 47,
   "metadata": {
    "button": false,
    "new_sheet": false,
    "pycharm": {
     "is_executing": false
    },
    "run_control": {
     "read_only": false
    }
   },
   "outputs": [
    {
     "data": {
      "text/html": [
       "<div>\n",
       "<style scoped>\n",
       "    .dataframe tbody tr th:only-of-type {\n",
       "        vertical-align: middle;\n",
       "    }\n",
       "\n",
       "    .dataframe tbody tr th {\n",
       "        vertical-align: top;\n",
       "    }\n",
       "\n",
       "    .dataframe thead th {\n",
       "        text-align: right;\n",
       "    }\n",
       "</style>\n",
       "<table border=\"1\" class=\"dataframe\">\n",
       "  <thead>\n",
       "    <tr style=\"text-align: right;\">\n",
       "      <th></th>\n",
       "      <th>Cement</th>\n",
       "      <th>Blast Furnace Slag</th>\n",
       "      <th>Fly Ash</th>\n",
       "      <th>Water</th>\n",
       "      <th>Superplasticizer</th>\n",
       "      <th>Coarse Aggregate</th>\n",
       "      <th>Fine Aggregate</th>\n",
       "      <th>Age</th>\n",
       "      <th>Strength</th>\n",
       "    </tr>\n",
       "  </thead>\n",
       "  <tbody>\n",
       "    <tr>\n",
       "      <th>0</th>\n",
       "      <td>540.0</td>\n",
       "      <td>0.0</td>\n",
       "      <td>0.0</td>\n",
       "      <td>162.0</td>\n",
       "      <td>2.5</td>\n",
       "      <td>1040.0</td>\n",
       "      <td>676.0</td>\n",
       "      <td>28</td>\n",
       "      <td>79.99</td>\n",
       "    </tr>\n",
       "    <tr>\n",
       "      <th>1</th>\n",
       "      <td>540.0</td>\n",
       "      <td>0.0</td>\n",
       "      <td>0.0</td>\n",
       "      <td>162.0</td>\n",
       "      <td>2.5</td>\n",
       "      <td>1055.0</td>\n",
       "      <td>676.0</td>\n",
       "      <td>28</td>\n",
       "      <td>61.89</td>\n",
       "    </tr>\n",
       "    <tr>\n",
       "      <th>2</th>\n",
       "      <td>332.5</td>\n",
       "      <td>142.5</td>\n",
       "      <td>0.0</td>\n",
       "      <td>228.0</td>\n",
       "      <td>0.0</td>\n",
       "      <td>932.0</td>\n",
       "      <td>594.0</td>\n",
       "      <td>270</td>\n",
       "      <td>40.27</td>\n",
       "    </tr>\n",
       "    <tr>\n",
       "      <th>3</th>\n",
       "      <td>332.5</td>\n",
       "      <td>142.5</td>\n",
       "      <td>0.0</td>\n",
       "      <td>228.0</td>\n",
       "      <td>0.0</td>\n",
       "      <td>932.0</td>\n",
       "      <td>594.0</td>\n",
       "      <td>365</td>\n",
       "      <td>41.05</td>\n",
       "    </tr>\n",
       "    <tr>\n",
       "      <th>4</th>\n",
       "      <td>198.6</td>\n",
       "      <td>132.4</td>\n",
       "      <td>0.0</td>\n",
       "      <td>192.0</td>\n",
       "      <td>0.0</td>\n",
       "      <td>978.4</td>\n",
       "      <td>825.5</td>\n",
       "      <td>360</td>\n",
       "      <td>44.30</td>\n",
       "    </tr>\n",
       "  </tbody>\n",
       "</table>\n",
       "</div>"
      ],
      "text/plain": [
       "   Cement  Blast Furnace Slag  Fly Ash  Water  Superplasticizer  \\\n",
       "0   540.0                 0.0      0.0  162.0               2.5   \n",
       "1   540.0                 0.0      0.0  162.0               2.5   \n",
       "2   332.5               142.5      0.0  228.0               0.0   \n",
       "3   332.5               142.5      0.0  228.0               0.0   \n",
       "4   198.6               132.4      0.0  192.0               0.0   \n",
       "\n",
       "   Coarse Aggregate  Fine Aggregate  Age  Strength  \n",
       "0            1040.0           676.0   28     79.99  \n",
       "1            1055.0           676.0   28     61.89  \n",
       "2             932.0           594.0  270     40.27  \n",
       "3             932.0           594.0  365     41.05  \n",
       "4             978.4           825.5  360     44.30  "
      ]
     },
     "execution_count": 47,
     "metadata": {},
     "output_type": "execute_result"
    }
   ],
   "source": [
    "concrete_data = pd.read_csv('https://ibm.box.com/shared/static/svl8tu7cmod6tizo6rk0ke4sbuhtpdfx.csv')\n",
    "concrete_data.head()"
   ]
  },
  {
   "cell_type": "markdown",
   "metadata": {
    "button": false,
    "new_sheet": false,
    "run_control": {
     "read_only": false
    }
   },
   "source": [
    "So the first concrete sample has 540 cubic meter of cement, 0 cubic meter of blast furnace slag, 0 cubic meter of fly ash, 162 cubic meter of water, 2.5 cubic meter of superplaticizer, 1040 cubic meter of coarse aggregate, 676 cubic meter of fine aggregate. Such a concrete mix which is 28 days old, has a compressive strength of 79.99 MPa. "
   ]
  },
  {
   "cell_type": "markdown",
   "metadata": {
    "button": false,
    "new_sheet": false,
    "run_control": {
     "read_only": false
    }
   },
   "source": [
    "#### Let's check how many data points we have."
   ]
  },
  {
   "cell_type": "code",
   "execution_count": 48,
   "metadata": {
    "button": false,
    "new_sheet": false,
    "pycharm": {
     "is_executing": false
    },
    "run_control": {
     "read_only": false
    }
   },
   "outputs": [
    {
     "data": {
      "text/plain": [
       "(1030, 9)"
      ]
     },
     "execution_count": 48,
     "metadata": {},
     "output_type": "execute_result"
    }
   ],
   "source": [
    "concrete_data.shape"
   ]
  },
  {
   "cell_type": "markdown",
   "metadata": {
    "button": false,
    "new_sheet": false,
    "run_control": {
     "read_only": false
    }
   },
   "source": [
    "So, there are approximately 1000 samples to train our model on. Because of the few samples, we have to be careful not to overfit the training data."
   ]
  },
  {
   "cell_type": "markdown",
   "metadata": {
    "button": false,
    "new_sheet": false,
    "run_control": {
     "read_only": false
    }
   },
   "source": [
    "Let's check the dataset for any missing values."
   ]
  },
  {
   "cell_type": "code",
   "execution_count": 49,
   "metadata": {
    "button": false,
    "new_sheet": false,
    "pycharm": {
     "is_executing": false
    },
    "run_control": {
     "read_only": false
    }
   },
   "outputs": [
    {
     "data": {
      "text/html": [
       "<div>\n",
       "<style scoped>\n",
       "    .dataframe tbody tr th:only-of-type {\n",
       "        vertical-align: middle;\n",
       "    }\n",
       "\n",
       "    .dataframe tbody tr th {\n",
       "        vertical-align: top;\n",
       "    }\n",
       "\n",
       "    .dataframe thead th {\n",
       "        text-align: right;\n",
       "    }\n",
       "</style>\n",
       "<table border=\"1\" class=\"dataframe\">\n",
       "  <thead>\n",
       "    <tr style=\"text-align: right;\">\n",
       "      <th></th>\n",
       "      <th>Cement</th>\n",
       "      <th>Blast Furnace Slag</th>\n",
       "      <th>Fly Ash</th>\n",
       "      <th>Water</th>\n",
       "      <th>Superplasticizer</th>\n",
       "      <th>Coarse Aggregate</th>\n",
       "      <th>Fine Aggregate</th>\n",
       "      <th>Age</th>\n",
       "      <th>Strength</th>\n",
       "    </tr>\n",
       "  </thead>\n",
       "  <tbody>\n",
       "    <tr>\n",
       "      <th>count</th>\n",
       "      <td>1030.000000</td>\n",
       "      <td>1030.000000</td>\n",
       "      <td>1030.000000</td>\n",
       "      <td>1030.000000</td>\n",
       "      <td>1030.000000</td>\n",
       "      <td>1030.000000</td>\n",
       "      <td>1030.000000</td>\n",
       "      <td>1030.000000</td>\n",
       "      <td>1030.000000</td>\n",
       "    </tr>\n",
       "    <tr>\n",
       "      <th>mean</th>\n",
       "      <td>281.167864</td>\n",
       "      <td>73.895825</td>\n",
       "      <td>54.188350</td>\n",
       "      <td>181.567282</td>\n",
       "      <td>6.204660</td>\n",
       "      <td>972.918932</td>\n",
       "      <td>773.580485</td>\n",
       "      <td>45.662136</td>\n",
       "      <td>35.817961</td>\n",
       "    </tr>\n",
       "    <tr>\n",
       "      <th>std</th>\n",
       "      <td>104.506364</td>\n",
       "      <td>86.279342</td>\n",
       "      <td>63.997004</td>\n",
       "      <td>21.354219</td>\n",
       "      <td>5.973841</td>\n",
       "      <td>77.753954</td>\n",
       "      <td>80.175980</td>\n",
       "      <td>63.169912</td>\n",
       "      <td>16.705742</td>\n",
       "    </tr>\n",
       "    <tr>\n",
       "      <th>min</th>\n",
       "      <td>102.000000</td>\n",
       "      <td>0.000000</td>\n",
       "      <td>0.000000</td>\n",
       "      <td>121.800000</td>\n",
       "      <td>0.000000</td>\n",
       "      <td>801.000000</td>\n",
       "      <td>594.000000</td>\n",
       "      <td>1.000000</td>\n",
       "      <td>2.330000</td>\n",
       "    </tr>\n",
       "    <tr>\n",
       "      <th>25%</th>\n",
       "      <td>192.375000</td>\n",
       "      <td>0.000000</td>\n",
       "      <td>0.000000</td>\n",
       "      <td>164.900000</td>\n",
       "      <td>0.000000</td>\n",
       "      <td>932.000000</td>\n",
       "      <td>730.950000</td>\n",
       "      <td>7.000000</td>\n",
       "      <td>23.710000</td>\n",
       "    </tr>\n",
       "    <tr>\n",
       "      <th>50%</th>\n",
       "      <td>272.900000</td>\n",
       "      <td>22.000000</td>\n",
       "      <td>0.000000</td>\n",
       "      <td>185.000000</td>\n",
       "      <td>6.400000</td>\n",
       "      <td>968.000000</td>\n",
       "      <td>779.500000</td>\n",
       "      <td>28.000000</td>\n",
       "      <td>34.445000</td>\n",
       "    </tr>\n",
       "    <tr>\n",
       "      <th>75%</th>\n",
       "      <td>350.000000</td>\n",
       "      <td>142.950000</td>\n",
       "      <td>118.300000</td>\n",
       "      <td>192.000000</td>\n",
       "      <td>10.200000</td>\n",
       "      <td>1029.400000</td>\n",
       "      <td>824.000000</td>\n",
       "      <td>56.000000</td>\n",
       "      <td>46.135000</td>\n",
       "    </tr>\n",
       "    <tr>\n",
       "      <th>max</th>\n",
       "      <td>540.000000</td>\n",
       "      <td>359.400000</td>\n",
       "      <td>200.100000</td>\n",
       "      <td>247.000000</td>\n",
       "      <td>32.200000</td>\n",
       "      <td>1145.000000</td>\n",
       "      <td>992.600000</td>\n",
       "      <td>365.000000</td>\n",
       "      <td>82.600000</td>\n",
       "    </tr>\n",
       "  </tbody>\n",
       "</table>\n",
       "</div>"
      ],
      "text/plain": [
       "            Cement  Blast Furnace Slag      Fly Ash        Water  \\\n",
       "count  1030.000000         1030.000000  1030.000000  1030.000000   \n",
       "mean    281.167864           73.895825    54.188350   181.567282   \n",
       "std     104.506364           86.279342    63.997004    21.354219   \n",
       "min     102.000000            0.000000     0.000000   121.800000   \n",
       "25%     192.375000            0.000000     0.000000   164.900000   \n",
       "50%     272.900000           22.000000     0.000000   185.000000   \n",
       "75%     350.000000          142.950000   118.300000   192.000000   \n",
       "max     540.000000          359.400000   200.100000   247.000000   \n",
       "\n",
       "       Superplasticizer  Coarse Aggregate  Fine Aggregate          Age  \\\n",
       "count       1030.000000       1030.000000     1030.000000  1030.000000   \n",
       "mean           6.204660        972.918932      773.580485    45.662136   \n",
       "std            5.973841         77.753954       80.175980    63.169912   \n",
       "min            0.000000        801.000000      594.000000     1.000000   \n",
       "25%            0.000000        932.000000      730.950000     7.000000   \n",
       "50%            6.400000        968.000000      779.500000    28.000000   \n",
       "75%           10.200000       1029.400000      824.000000    56.000000   \n",
       "max           32.200000       1145.000000      992.600000   365.000000   \n",
       "\n",
       "          Strength  \n",
       "count  1030.000000  \n",
       "mean     35.817961  \n",
       "std      16.705742  \n",
       "min       2.330000  \n",
       "25%      23.710000  \n",
       "50%      34.445000  \n",
       "75%      46.135000  \n",
       "max      82.600000  "
      ]
     },
     "execution_count": 49,
     "metadata": {},
     "output_type": "execute_result"
    }
   ],
   "source": [
    "concrete_data.describe()"
   ]
  },
  {
   "cell_type": "code",
   "execution_count": 50,
   "metadata": {
    "button": false,
    "new_sheet": false,
    "pycharm": {
     "is_executing": false
    },
    "run_control": {
     "read_only": false
    }
   },
   "outputs": [
    {
     "data": {
      "text/plain": [
       "Cement                0\n",
       "Blast Furnace Slag    0\n",
       "Fly Ash               0\n",
       "Water                 0\n",
       "Superplasticizer      0\n",
       "Coarse Aggregate      0\n",
       "Fine Aggregate        0\n",
       "Age                   0\n",
       "Strength              0\n",
       "dtype: int64"
      ]
     },
     "execution_count": 50,
     "metadata": {},
     "output_type": "execute_result"
    }
   ],
   "source": [
    "concrete_data.isnull().sum()"
   ]
  },
  {
   "cell_type": "markdown",
   "metadata": {
    "button": false,
    "new_sheet": false,
    "run_control": {
     "read_only": false
    }
   },
   "source": [
    "The data looks very clean and is ready to be used to build our model."
   ]
  },
  {
   "cell_type": "markdown",
   "metadata": {
    "button": false,
    "new_sheet": false,
    "run_control": {
     "read_only": false
    }
   },
   "source": [
    "#### Split data into predictors and target"
   ]
  },
  {
   "cell_type": "code",
   "execution_count": 51,
   "metadata": {
    "button": false,
    "new_sheet": false,
    "pycharm": {
     "is_executing": false
    },
    "run_control": {
     "read_only": false
    }
   },
   "outputs": [],
   "source": [
    "concrete_data_columns = concrete_data.columns\n",
    "\n",
    "predictors = concrete_data[concrete_data_columns[concrete_data_columns != 'Strength']] # all columns except Strength\n",
    "target = concrete_data['Strength'] # Strength column"
   ]
  },
  {
   "cell_type": "markdown",
   "metadata": {
    "button": false,
    "new_sheet": false,
    "run_control": {
     "read_only": false
    }
   },
   "source": [
    "<a id=\"item2\"></a>"
   ]
  },
  {
   "cell_type": "markdown",
   "metadata": {
    "button": false,
    "new_sheet": false,
    "run_control": {
     "read_only": false
    }
   },
   "source": [
    "Let's do a quick sanity check of the predictors and the target dataframes."
   ]
  },
  {
   "cell_type": "code",
   "execution_count": 52,
   "metadata": {
    "button": false,
    "new_sheet": false,
    "pycharm": {
     "is_executing": false
    },
    "run_control": {
     "read_only": false
    }
   },
   "outputs": [
    {
     "data": {
      "text/html": [
       "<div>\n",
       "<style scoped>\n",
       "    .dataframe tbody tr th:only-of-type {\n",
       "        vertical-align: middle;\n",
       "    }\n",
       "\n",
       "    .dataframe tbody tr th {\n",
       "        vertical-align: top;\n",
       "    }\n",
       "\n",
       "    .dataframe thead th {\n",
       "        text-align: right;\n",
       "    }\n",
       "</style>\n",
       "<table border=\"1\" class=\"dataframe\">\n",
       "  <thead>\n",
       "    <tr style=\"text-align: right;\">\n",
       "      <th></th>\n",
       "      <th>Cement</th>\n",
       "      <th>Blast Furnace Slag</th>\n",
       "      <th>Fly Ash</th>\n",
       "      <th>Water</th>\n",
       "      <th>Superplasticizer</th>\n",
       "      <th>Coarse Aggregate</th>\n",
       "      <th>Fine Aggregate</th>\n",
       "      <th>Age</th>\n",
       "    </tr>\n",
       "  </thead>\n",
       "  <tbody>\n",
       "    <tr>\n",
       "      <th>0</th>\n",
       "      <td>540.0</td>\n",
       "      <td>0.0</td>\n",
       "      <td>0.0</td>\n",
       "      <td>162.0</td>\n",
       "      <td>2.5</td>\n",
       "      <td>1040.0</td>\n",
       "      <td>676.0</td>\n",
       "      <td>28</td>\n",
       "    </tr>\n",
       "    <tr>\n",
       "      <th>1</th>\n",
       "      <td>540.0</td>\n",
       "      <td>0.0</td>\n",
       "      <td>0.0</td>\n",
       "      <td>162.0</td>\n",
       "      <td>2.5</td>\n",
       "      <td>1055.0</td>\n",
       "      <td>676.0</td>\n",
       "      <td>28</td>\n",
       "    </tr>\n",
       "    <tr>\n",
       "      <th>2</th>\n",
       "      <td>332.5</td>\n",
       "      <td>142.5</td>\n",
       "      <td>0.0</td>\n",
       "      <td>228.0</td>\n",
       "      <td>0.0</td>\n",
       "      <td>932.0</td>\n",
       "      <td>594.0</td>\n",
       "      <td>270</td>\n",
       "    </tr>\n",
       "    <tr>\n",
       "      <th>3</th>\n",
       "      <td>332.5</td>\n",
       "      <td>142.5</td>\n",
       "      <td>0.0</td>\n",
       "      <td>228.0</td>\n",
       "      <td>0.0</td>\n",
       "      <td>932.0</td>\n",
       "      <td>594.0</td>\n",
       "      <td>365</td>\n",
       "    </tr>\n",
       "    <tr>\n",
       "      <th>4</th>\n",
       "      <td>198.6</td>\n",
       "      <td>132.4</td>\n",
       "      <td>0.0</td>\n",
       "      <td>192.0</td>\n",
       "      <td>0.0</td>\n",
       "      <td>978.4</td>\n",
       "      <td>825.5</td>\n",
       "      <td>360</td>\n",
       "    </tr>\n",
       "  </tbody>\n",
       "</table>\n",
       "</div>"
      ],
      "text/plain": [
       "   Cement  Blast Furnace Slag  Fly Ash  Water  Superplasticizer  \\\n",
       "0   540.0                 0.0      0.0  162.0               2.5   \n",
       "1   540.0                 0.0      0.0  162.0               2.5   \n",
       "2   332.5               142.5      0.0  228.0               0.0   \n",
       "3   332.5               142.5      0.0  228.0               0.0   \n",
       "4   198.6               132.4      0.0  192.0               0.0   \n",
       "\n",
       "   Coarse Aggregate  Fine Aggregate  Age  \n",
       "0            1040.0           676.0   28  \n",
       "1            1055.0           676.0   28  \n",
       "2             932.0           594.0  270  \n",
       "3             932.0           594.0  365  \n",
       "4             978.4           825.5  360  "
      ]
     },
     "execution_count": 52,
     "metadata": {},
     "output_type": "execute_result"
    }
   ],
   "source": [
    "predictors.head()"
   ]
  },
  {
   "cell_type": "code",
   "execution_count": 53,
   "metadata": {
    "button": false,
    "new_sheet": false,
    "pycharm": {
     "is_executing": false
    },
    "run_control": {
     "read_only": false
    }
   },
   "outputs": [
    {
     "data": {
      "text/plain": [
       "0    79.99\n",
       "1    61.89\n",
       "2    40.27\n",
       "3    41.05\n",
       "4    44.30\n",
       "Name: Strength, dtype: float64"
      ]
     },
     "execution_count": 53,
     "metadata": {},
     "output_type": "execute_result"
    }
   ],
   "source": [
    "target.head()"
   ]
  },
  {
   "cell_type": "markdown",
   "metadata": {
    "button": false,
    "new_sheet": false,
    "run_control": {
     "read_only": false
    }
   },
   "source": [
    "Finally, the last step is to normalize the data by subtracting the mean and dividing by the standard deviation."
   ]
  },
  {
   "cell_type": "code",
   "execution_count": 54,
   "metadata": {
    "button": false,
    "new_sheet": false,
    "pycharm": {
     "is_executing": false
    },
    "run_control": {
     "read_only": false
    }
   },
   "outputs": [
    {
     "data": {
      "text/html": [
       "<div>\n",
       "<style scoped>\n",
       "    .dataframe tbody tr th:only-of-type {\n",
       "        vertical-align: middle;\n",
       "    }\n",
       "\n",
       "    .dataframe tbody tr th {\n",
       "        vertical-align: top;\n",
       "    }\n",
       "\n",
       "    .dataframe thead th {\n",
       "        text-align: right;\n",
       "    }\n",
       "</style>\n",
       "<table border=\"1\" class=\"dataframe\">\n",
       "  <thead>\n",
       "    <tr style=\"text-align: right;\">\n",
       "      <th></th>\n",
       "      <th>Cement</th>\n",
       "      <th>Blast Furnace Slag</th>\n",
       "      <th>Fly Ash</th>\n",
       "      <th>Water</th>\n",
       "      <th>Superplasticizer</th>\n",
       "      <th>Coarse Aggregate</th>\n",
       "      <th>Fine Aggregate</th>\n",
       "      <th>Age</th>\n",
       "    </tr>\n",
       "  </thead>\n",
       "  <tbody>\n",
       "    <tr>\n",
       "      <th>0</th>\n",
       "      <td>2.476712</td>\n",
       "      <td>-0.856472</td>\n",
       "      <td>-0.846733</td>\n",
       "      <td>-0.916319</td>\n",
       "      <td>-0.620147</td>\n",
       "      <td>0.862735</td>\n",
       "      <td>-1.217079</td>\n",
       "      <td>-0.279597</td>\n",
       "    </tr>\n",
       "    <tr>\n",
       "      <th>1</th>\n",
       "      <td>2.476712</td>\n",
       "      <td>-0.856472</td>\n",
       "      <td>-0.846733</td>\n",
       "      <td>-0.916319</td>\n",
       "      <td>-0.620147</td>\n",
       "      <td>1.055651</td>\n",
       "      <td>-1.217079</td>\n",
       "      <td>-0.279597</td>\n",
       "    </tr>\n",
       "    <tr>\n",
       "      <th>2</th>\n",
       "      <td>0.491187</td>\n",
       "      <td>0.795140</td>\n",
       "      <td>-0.846733</td>\n",
       "      <td>2.174405</td>\n",
       "      <td>-1.038638</td>\n",
       "      <td>-0.526262</td>\n",
       "      <td>-2.239829</td>\n",
       "      <td>3.551340</td>\n",
       "    </tr>\n",
       "    <tr>\n",
       "      <th>3</th>\n",
       "      <td>0.491187</td>\n",
       "      <td>0.795140</td>\n",
       "      <td>-0.846733</td>\n",
       "      <td>2.174405</td>\n",
       "      <td>-1.038638</td>\n",
       "      <td>-0.526262</td>\n",
       "      <td>-2.239829</td>\n",
       "      <td>5.055221</td>\n",
       "    </tr>\n",
       "    <tr>\n",
       "      <th>4</th>\n",
       "      <td>-0.790075</td>\n",
       "      <td>0.678079</td>\n",
       "      <td>-0.846733</td>\n",
       "      <td>0.488555</td>\n",
       "      <td>-1.038638</td>\n",
       "      <td>0.070492</td>\n",
       "      <td>0.647569</td>\n",
       "      <td>4.976069</td>\n",
       "    </tr>\n",
       "  </tbody>\n",
       "</table>\n",
       "</div>"
      ],
      "text/plain": [
       "     Cement  Blast Furnace Slag   Fly Ash     Water  Superplasticizer  \\\n",
       "0  2.476712           -0.856472 -0.846733 -0.916319         -0.620147   \n",
       "1  2.476712           -0.856472 -0.846733 -0.916319         -0.620147   \n",
       "2  0.491187            0.795140 -0.846733  2.174405         -1.038638   \n",
       "3  0.491187            0.795140 -0.846733  2.174405         -1.038638   \n",
       "4 -0.790075            0.678079 -0.846733  0.488555         -1.038638   \n",
       "\n",
       "   Coarse Aggregate  Fine Aggregate       Age  \n",
       "0          0.862735       -1.217079 -0.279597  \n",
       "1          1.055651       -1.217079 -0.279597  \n",
       "2         -0.526262       -2.239829  3.551340  \n",
       "3         -0.526262       -2.239829  5.055221  \n",
       "4          0.070492        0.647569  4.976069  "
      ]
     },
     "execution_count": 54,
     "metadata": {},
     "output_type": "execute_result"
    }
   ],
   "source": [
    "predictors_norm = (predictors - predictors.mean()) / predictors.std()\n",
    "predictors_norm.head()"
   ]
  },
  {
   "cell_type": "code",
   "execution_count": 55,
   "metadata": {
    "button": false,
    "new_sheet": false,
    "pycharm": {
     "is_executing": false
    },
    "run_control": {
     "read_only": false
    }
   },
   "outputs": [
    {
     "data": {
      "text/plain": [
       "8"
      ]
     },
     "execution_count": 55,
     "metadata": {},
     "output_type": "execute_result"
    }
   ],
   "source": [
    "n_cols = predictors_norm.shape[1] # number of predictors\n",
    "n_cols"
   ]
  },
  {
   "cell_type": "markdown",
   "metadata": {
    "button": false,
    "new_sheet": false,
    "run_control": {
     "read_only": false
    }
   },
   "source": [
    "<a id=\"item1\"></a>"
   ]
  },
  {
   "cell_type": "markdown",
   "metadata": {
    "button": false,
    "new_sheet": false,
    "run_control": {
     "read_only": false
    }
   },
   "source": [
    "## Import Keras"
   ]
  },
  {
   "cell_type": "markdown",
   "metadata": {
    "button": false,
    "new_sheet": false,
    "run_control": {
     "read_only": false
    }
   },
   "source": [
    "Recall from the videos that Keras normally runs on top of a low-level library such as TensorFlow. This means that to be able to use the Keras library, you will have to install TensorFlow first and when you import the Keras library, it will be explicitly displayed what backend was used to install the Keras library. In CC Labs, we used TensorFlow as the backend to install Keras, so it should clearly print that when we import Keras."
   ]
  },
  {
   "cell_type": "markdown",
   "metadata": {
    "button": false,
    "new_sheet": false,
    "run_control": {
     "read_only": false
    }
   },
   "source": [
    "#### Let's go ahead and import the Keras library"
   ]
  },
  {
   "cell_type": "code",
   "execution_count": 56,
   "metadata": {
    "button": false,
    "new_sheet": false,
    "pycharm": {
     "is_executing": false
    },
    "run_control": {
     "read_only": false
    }
   },
   "outputs": [],
   "source": [
    "import keras"
   ]
  },
  {
   "cell_type": "markdown",
   "metadata": {
    "button": false,
    "new_sheet": false,
    "run_control": {
     "read_only": false
    }
   },
   "source": [
    "As you can see, the TensorFlow backend was used to install the Keras library."
   ]
  },
  {
   "cell_type": "markdown",
   "metadata": {
    "button": false,
    "new_sheet": false,
    "run_control": {
     "read_only": false
    }
   },
   "source": [
    "Let's import the rest of the packages from the Keras library that we will need to build our regressoin model."
   ]
  },
  {
   "cell_type": "code",
   "execution_count": 57,
   "metadata": {
    "button": false,
    "new_sheet": false,
    "pycharm": {
     "is_executing": false
    },
    "run_control": {
     "read_only": false
    }
   },
   "outputs": [],
   "source": [
    "from keras.models import Sequential\n",
    "from keras.layers import Dense"
   ]
  },
  {
   "cell_type": "markdown",
   "metadata": {
    "button": false,
    "new_sheet": false,
    "run_control": {
     "read_only": false
    }
   },
   "source": [
    "## Build a Neural Network"
   ]
  },
  {
   "cell_type": "markdown",
   "metadata": {
    "button": false,
    "new_sheet": false,
    "run_control": {
     "read_only": false
    }
   },
   "source": [
    "Let's define a function that defines our regression model for us so that we can conveniently call it to create our model."
   ]
  },
  {
   "cell_type": "code",
   "execution_count": 58,
   "metadata": {
    "button": false,
    "new_sheet": false,
    "pycharm": {
     "is_executing": false
    },
    "run_control": {
     "read_only": false
    }
   },
   "outputs": [],
   "source": [
    "# define regression model\n",
    "def regression_model():\n",
    "    # create model\n",
    "    model = Sequential()\n",
    "    model.add(Dense(500, activation='relu', input_shape=(n_cols,)))\n",
    "    model.add(Dense(350, activation='relu'))\n",
    "    model.add(Dense(200, activation='relu'))\n",
    "    model.add(Dense(100, activation='relu'))\n",
    "    model.add(Dense(1))\n",
    "    \n",
    "    # compile model\n",
    "    model.compile(optimizer='adam', loss='mean_squared_error')\n",
    "    return model"
   ]
  },
  {
   "cell_type": "markdown",
   "metadata": {
    "button": false,
    "new_sheet": false,
    "run_control": {
     "read_only": false
    }
   },
   "source": [
    "<a id=\"item4\"></a>"
   ]
  },
  {
   "cell_type": "markdown",
   "metadata": {
    "button": false,
    "new_sheet": false,
    "run_control": {
     "read_only": false
    }
   },
   "source": [
    "## Train and Test the Network"
   ]
  },
  {
   "cell_type": "code",
   "execution_count": 59,
   "metadata": {
    "button": false,
    "new_sheet": false,
    "pycharm": {
     "is_executing": true
    },
    "run_control": {
     "read_only": false
    }
   },
   "outputs": [
    {
     "name": "stdout",
     "output_type": "stream",
     "text": [
      "Train on 721 samples, validate on 309 samples\n",
      "Epoch 1/200\n",
      " - 0s - loss: 915.9974 - val_loss: 251.3249\n",
      "Epoch 2/200\n",
      " - 0s - loss: 250.7284 - val_loss: 216.3738\n",
      "Epoch 3/200\n",
      " - 0s - loss: 196.2144 - val_loss: 214.7914\n",
      "Epoch 4/200\n",
      " - 0s - loss: 173.7758 - val_loss: 202.1399\n",
      "Epoch 5/200\n",
      " - 0s - loss: 152.2963 - val_loss: 199.3926\n",
      "Epoch 6/200\n",
      " - 0s - loss: 132.4068 - val_loss: 201.3561\n",
      "Epoch 7/200\n",
      " - 0s - loss: 111.8033 - val_loss: 213.0029\n",
      "Epoch 8/200\n",
      " - 0s - loss: 91.3457 - val_loss: 209.5833\n",
      "Epoch 9/200\n",
      " - 0s - loss: 76.5771 - val_loss: 193.9053\n",
      "Epoch 10/200\n",
      " - 0s - loss: 64.4710 - val_loss: 191.5299\n",
      "Epoch 11/200\n",
      " - 0s - loss: 54.7349 - val_loss: 180.8996\n",
      "Epoch 12/200\n",
      " - 0s - loss: 51.4933 - val_loss: 167.7364\n",
      "Epoch 13/200\n",
      " - 0s - loss: 55.7398 - val_loss: 163.3329\n",
      "Epoch 14/200\n",
      " - 0s - loss: 44.7874 - val_loss: 185.3980\n",
      "Epoch 15/200\n",
      " - 0s - loss: 38.3732 - val_loss: 179.4522\n",
      "Epoch 16/200\n",
      " - 0s - loss: 35.2756 - val_loss: 143.6867\n",
      "Epoch 17/200\n",
      " - 0s - loss: 33.3936 - val_loss: 124.5101\n",
      "Epoch 18/200\n",
      " - 0s - loss: 32.5519 - val_loss: 113.2481\n",
      "Epoch 19/200\n",
      " - 0s - loss: 30.0367 - val_loss: 143.0131\n",
      "Epoch 20/200\n",
      " - 0s - loss: 28.8036 - val_loss: 136.2848\n",
      "Epoch 21/200\n",
      " - 0s - loss: 28.1781 - val_loss: 179.5892\n",
      "Epoch 22/200\n",
      " - 0s - loss: 24.8705 - val_loss: 161.2198\n",
      "Epoch 23/200\n",
      " - 0s - loss: 25.4656 - val_loss: 122.5167\n",
      "Epoch 24/200\n",
      " - 0s - loss: 23.4768 - val_loss: 137.7081\n",
      "Epoch 25/200\n",
      " - 0s - loss: 21.2801 - val_loss: 123.3567\n",
      "Epoch 26/200\n",
      " - 0s - loss: 20.6126 - val_loss: 151.6865\n",
      "Epoch 27/200\n",
      " - 0s - loss: 23.3368 - val_loss: 145.2180\n",
      "Epoch 28/200\n",
      " - 0s - loss: 20.9738 - val_loss: 109.7994\n",
      "Epoch 29/200\n",
      " - 0s - loss: 19.1625 - val_loss: 126.3006\n",
      "Epoch 30/200\n",
      " - 0s - loss: 18.3571 - val_loss: 108.4984\n",
      "Epoch 31/200\n",
      " - 0s - loss: 23.0186 - val_loss: 112.4279\n",
      "Epoch 32/200\n",
      " - 0s - loss: 23.4844 - val_loss: 162.6163\n",
      "Epoch 33/200\n",
      " - 0s - loss: 17.6126 - val_loss: 121.3194\n",
      "Epoch 34/200\n",
      " - 0s - loss: 17.1915 - val_loss: 114.7961\n",
      "Epoch 35/200\n",
      " - 0s - loss: 18.4320 - val_loss: 118.3120\n",
      "Epoch 36/200\n",
      " - 0s - loss: 17.4831 - val_loss: 104.6626\n",
      "Epoch 37/200\n",
      " - 0s - loss: 19.5181 - val_loss: 172.1430\n",
      "Epoch 38/200\n",
      " - 0s - loss: 16.8262 - val_loss: 145.0120\n",
      "Epoch 39/200\n",
      " - 0s - loss: 16.3405 - val_loss: 130.8354\n",
      "Epoch 40/200\n",
      " - 0s - loss: 16.8247 - val_loss: 102.7147\n",
      "Epoch 41/200\n",
      " - 0s - loss: 17.8579 - val_loss: 133.9861\n",
      "Epoch 42/200\n",
      " - 0s - loss: 16.1117 - val_loss: 149.4753\n",
      "Epoch 43/200\n",
      " - 0s - loss: 17.5603 - val_loss: 131.6225\n",
      "Epoch 44/200\n",
      " - 0s - loss: 14.7092 - val_loss: 123.8326\n",
      "Epoch 45/200\n",
      " - 0s - loss: 14.1088 - val_loss: 117.8798\n",
      "Epoch 46/200\n",
      " - 0s - loss: 16.5233 - val_loss: 115.4811\n",
      "Epoch 47/200\n",
      " - 0s - loss: 13.6056 - val_loss: 117.9640\n",
      "Epoch 48/200\n",
      " - 0s - loss: 12.8915 - val_loss: 154.2957\n",
      "Epoch 49/200\n",
      " - 0s - loss: 14.1455 - val_loss: 116.2231\n",
      "Epoch 50/200\n",
      " - 0s - loss: 13.1694 - val_loss: 151.2216\n",
      "Epoch 51/200\n",
      " - 0s - loss: 12.2094 - val_loss: 141.5705\n",
      "Epoch 52/200\n",
      " - 0s - loss: 13.3215 - val_loss: 125.0674\n",
      "Epoch 53/200\n",
      " - 0s - loss: 12.1628 - val_loss: 130.3177\n",
      "Epoch 54/200\n",
      " - 0s - loss: 14.4341 - val_loss: 173.9697\n",
      "Epoch 55/200\n",
      " - 0s - loss: 14.1275 - val_loss: 109.1151\n",
      "Epoch 56/200\n",
      " - 0s - loss: 11.5925 - val_loss: 142.5306\n",
      "Epoch 57/200\n",
      " - 0s - loss: 17.0622 - val_loss: 131.7958\n",
      "Epoch 58/200\n",
      " - 0s - loss: 13.6455 - val_loss: 116.5072\n",
      "Epoch 59/200\n",
      " - 0s - loss: 13.0499 - val_loss: 145.8614\n",
      "Epoch 60/200\n",
      " - 0s - loss: 15.9568 - val_loss: 93.0740\n",
      "Epoch 61/200\n",
      " - 0s - loss: 13.5151 - val_loss: 152.7221\n",
      "Epoch 62/200\n",
      " - 0s - loss: 13.3707 - val_loss: 134.3213\n",
      "Epoch 63/200\n",
      " - 0s - loss: 12.4255 - val_loss: 136.7548\n",
      "Epoch 64/200\n",
      " - 0s - loss: 11.5320 - val_loss: 135.7395\n",
      "Epoch 65/200\n",
      " - 0s - loss: 11.2760 - val_loss: 123.9634\n",
      "Epoch 66/200\n",
      " - 0s - loss: 12.4527 - val_loss: 124.4832\n",
      "Epoch 67/200\n",
      " - 0s - loss: 13.6758 - val_loss: 151.9332\n",
      "Epoch 68/200\n",
      " - 0s - loss: 13.0984 - val_loss: 108.2902\n",
      "Epoch 69/200\n",
      " - 0s - loss: 11.8190 - val_loss: 156.5583\n",
      "Epoch 70/200\n",
      " - 0s - loss: 13.9749 - val_loss: 130.2084\n",
      "Epoch 71/200\n",
      " - 0s - loss: 12.9007 - val_loss: 127.4128\n",
      "Epoch 72/200\n",
      " - 0s - loss: 12.7044 - val_loss: 113.2775\n",
      "Epoch 73/200\n",
      " - 0s - loss: 11.5899 - val_loss: 136.7749\n",
      "Epoch 74/200\n",
      " - 0s - loss: 11.9966 - val_loss: 121.9515\n",
      "Epoch 75/200\n",
      " - 0s - loss: 12.8709 - val_loss: 179.7356\n",
      "Epoch 76/200\n",
      " - 0s - loss: 11.7478 - val_loss: 136.0561\n",
      "Epoch 77/200\n",
      " - 0s - loss: 10.4666 - val_loss: 119.4065\n",
      "Epoch 78/200\n",
      " - 0s - loss: 10.5065 - val_loss: 124.8752\n",
      "Epoch 79/200\n",
      " - 0s - loss: 11.6015 - val_loss: 153.0215\n",
      "Epoch 80/200\n",
      " - 0s - loss: 11.3859 - val_loss: 135.0735\n",
      "Epoch 81/200\n",
      " - 0s - loss: 10.8421 - val_loss: 156.6207\n",
      "Epoch 82/200\n",
      " - 0s - loss: 10.4074 - val_loss: 125.0017\n",
      "Epoch 83/200\n",
      " - 0s - loss: 9.8525 - val_loss: 135.3592\n",
      "Epoch 84/200\n",
      " - 0s - loss: 11.2127 - val_loss: 129.7732\n",
      "Epoch 85/200\n",
      " - 0s - loss: 11.3147 - val_loss: 136.6741\n",
      "Epoch 86/200\n",
      " - 0s - loss: 11.3804 - val_loss: 131.6244\n",
      "Epoch 87/200\n",
      " - 0s - loss: 10.0457 - val_loss: 154.9217\n",
      "Epoch 88/200\n",
      " - 0s - loss: 10.1085 - val_loss: 140.2410\n",
      "Epoch 89/200\n",
      " - 0s - loss: 9.4995 - val_loss: 129.5696\n",
      "Epoch 90/200\n",
      " - 0s - loss: 10.2558 - val_loss: 145.1509\n",
      "Epoch 91/200\n",
      " - 0s - loss: 10.1539 - val_loss: 129.8658\n",
      "Epoch 92/200\n",
      " - 0s - loss: 13.8386 - val_loss: 177.9668\n",
      "Epoch 93/200\n",
      " - 0s - loss: 10.6723 - val_loss: 126.9219\n",
      "Epoch 94/200\n",
      " - 0s - loss: 9.1784 - val_loss: 103.3097\n",
      "Epoch 95/200\n",
      " - 0s - loss: 10.6937 - val_loss: 111.7983\n",
      "Epoch 96/200\n",
      " - 0s - loss: 10.6513 - val_loss: 111.3827\n",
      "Epoch 97/200\n",
      " - 0s - loss: 11.1300 - val_loss: 121.6836\n",
      "Epoch 98/200\n",
      " - 0s - loss: 9.9408 - val_loss: 130.6645\n",
      "Epoch 99/200\n",
      " - 0s - loss: 9.4960 - val_loss: 119.4666\n",
      "Epoch 100/200\n",
      " - 0s - loss: 10.3838 - val_loss: 116.4629\n",
      "Epoch 101/200\n",
      " - 0s - loss: 14.4061 - val_loss: 125.5337\n",
      "Epoch 102/200\n",
      " - 0s - loss: 10.4810 - val_loss: 130.6881\n",
      "Epoch 103/200\n",
      " - 0s - loss: 10.4123 - val_loss: 132.8222\n",
      "Epoch 104/200\n",
      " - 0s - loss: 9.2147 - val_loss: 113.4491\n",
      "Epoch 105/200\n",
      " - 0s - loss: 9.4826 - val_loss: 128.0967\n",
      "Epoch 106/200\n",
      " - 0s - loss: 8.9139 - val_loss: 164.2275\n",
      "Epoch 107/200\n",
      " - 0s - loss: 9.0119 - val_loss: 140.7792\n",
      "Epoch 108/200\n",
      " - 0s - loss: 8.5929 - val_loss: 151.6544\n",
      "Epoch 109/200\n",
      " - 0s - loss: 8.3909 - val_loss: 132.7334\n",
      "Epoch 110/200\n",
      " - 0s - loss: 8.0357 - val_loss: 150.0797\n",
      "Epoch 111/200\n",
      " - 0s - loss: 8.1889 - val_loss: 142.7430\n",
      "Epoch 112/200\n",
      " - 0s - loss: 8.7579 - val_loss: 150.3368\n",
      "Epoch 113/200\n",
      " - 0s - loss: 9.6047 - val_loss: 132.6135\n",
      "Epoch 114/200\n",
      " - 0s - loss: 9.1825 - val_loss: 133.6393\n",
      "Epoch 115/200\n",
      " - 0s - loss: 11.5191 - val_loss: 122.1679\n",
      "Epoch 116/200\n",
      " - 0s - loss: 8.3536 - val_loss: 113.9667\n",
      "Epoch 117/200\n",
      " - 0s - loss: 8.3735 - val_loss: 112.7226\n",
      "Epoch 118/200\n",
      " - 0s - loss: 8.6319 - val_loss: 124.5568\n",
      "Epoch 119/200\n",
      " - 0s - loss: 8.6403 - val_loss: 134.3274\n",
      "Epoch 120/200\n",
      " - 0s - loss: 9.8068 - val_loss: 103.8497\n",
      "Epoch 121/200\n",
      " - 0s - loss: 11.2902 - val_loss: 171.8360\n",
      "Epoch 122/200\n",
      " - 0s - loss: 9.9641 - val_loss: 172.5942\n",
      "Epoch 123/200\n",
      " - 0s - loss: 9.5784 - val_loss: 134.1387\n",
      "Epoch 124/200\n",
      " - 0s - loss: 8.2504 - val_loss: 131.8097\n",
      "Epoch 125/200\n",
      " - 0s - loss: 9.4932 - val_loss: 155.7292\n",
      "Epoch 126/200\n",
      " - 0s - loss: 11.7293 - val_loss: 109.2818\n",
      "Epoch 127/200\n",
      " - 0s - loss: 9.7509 - val_loss: 133.8436\n",
      "Epoch 128/200\n",
      " - 0s - loss: 9.7793 - val_loss: 137.0749\n",
      "Epoch 129/200\n",
      " - 0s - loss: 7.8154 - val_loss: 132.8600\n",
      "Epoch 130/200\n",
      " - 0s - loss: 7.9460 - val_loss: 137.6196\n",
      "Epoch 131/200\n",
      " - 0s - loss: 8.2242 - val_loss: 127.1166\n",
      "Epoch 132/200\n",
      " - 0s - loss: 8.2999 - val_loss: 132.9435\n",
      "Epoch 133/200\n",
      " - 0s - loss: 8.8687 - val_loss: 115.8888\n",
      "Epoch 134/200\n",
      " - 0s - loss: 8.8777 - val_loss: 108.8543\n",
      "Epoch 135/200\n",
      " - 0s - loss: 9.0358 - val_loss: 165.1199\n",
      "Epoch 136/200\n",
      " - 0s - loss: 9.8821 - val_loss: 117.7520\n",
      "Epoch 137/200\n",
      " - 0s - loss: 9.1119 - val_loss: 148.2131\n",
      "Epoch 138/200\n",
      " - 0s - loss: 11.0922 - val_loss: 115.0773\n",
      "Epoch 139/200\n",
      " - 0s - loss: 9.8550 - val_loss: 127.8548\n",
      "Epoch 140/200\n",
      " - 0s - loss: 8.6027 - val_loss: 110.9878\n",
      "Epoch 141/200\n",
      " - 0s - loss: 9.5638 - val_loss: 129.5973\n",
      "Epoch 142/200\n",
      " - 0s - loss: 8.7434 - val_loss: 116.7455\n",
      "Epoch 143/200\n",
      " - 0s - loss: 11.1236 - val_loss: 108.2040\n",
      "Epoch 144/200\n",
      " - 0s - loss: 13.1813 - val_loss: 173.0729\n",
      "Epoch 145/200\n",
      " - 0s - loss: 13.4712 - val_loss: 135.6893\n",
      "Epoch 146/200\n",
      " - 0s - loss: 9.3537 - val_loss: 141.5390\n"
     ]
    },
    {
     "name": "stdout",
     "output_type": "stream",
     "text": [
      "Epoch 147/200\n",
      " - 0s - loss: 9.1749 - val_loss: 175.7819\n",
      "Epoch 148/200\n",
      " - 0s - loss: 8.6757 - val_loss: 121.0570\n",
      "Epoch 149/200\n",
      " - 0s - loss: 8.4833 - val_loss: 114.2169\n",
      "Epoch 150/200\n",
      " - 0s - loss: 8.7564 - val_loss: 126.3785\n",
      "Epoch 151/200\n",
      " - 0s - loss: 7.6971 - val_loss: 148.4249\n",
      "Epoch 152/200\n",
      " - 0s - loss: 8.9081 - val_loss: 120.6513\n",
      "Epoch 153/200\n",
      " - 0s - loss: 7.7830 - val_loss: 150.5120\n",
      "Epoch 154/200\n",
      " - 0s - loss: 7.5112 - val_loss: 128.8988\n",
      "Epoch 155/200\n",
      " - 0s - loss: 8.9197 - val_loss: 206.2534\n",
      "Epoch 156/200\n",
      " - 0s - loss: 8.7959 - val_loss: 135.9927\n",
      "Epoch 157/200\n",
      " - 0s - loss: 7.7635 - val_loss: 134.0134\n",
      "Epoch 158/200\n",
      " - 0s - loss: 7.1528 - val_loss: 130.7212\n",
      "Epoch 159/200\n",
      " - 0s - loss: 6.6873 - val_loss: 128.2081\n",
      "Epoch 160/200\n",
      " - 0s - loss: 7.1240 - val_loss: 140.8057\n",
      "Epoch 161/200\n",
      " - 0s - loss: 8.0737 - val_loss: 164.7652\n",
      "Epoch 162/200\n",
      " - 0s - loss: 9.6445 - val_loss: 111.2993\n",
      "Epoch 163/200\n",
      " - 0s - loss: 9.1579 - val_loss: 169.7569\n",
      "Epoch 164/200\n",
      " - 0s - loss: 7.0787 - val_loss: 159.4452\n",
      "Epoch 165/200\n",
      " - 0s - loss: 8.3508 - val_loss: 121.0366\n",
      "Epoch 166/200\n",
      " - 0s - loss: 10.1447 - val_loss: 113.4778\n",
      "Epoch 167/200\n",
      " - 0s - loss: 11.8748 - val_loss: 117.1920\n",
      "Epoch 168/200\n",
      " - 0s - loss: 9.1920 - val_loss: 169.8852\n",
      "Epoch 169/200\n",
      " - 0s - loss: 8.7041 - val_loss: 136.8433\n",
      "Epoch 170/200\n",
      " - 0s - loss: 7.2498 - val_loss: 126.7624\n",
      "Epoch 171/200\n",
      " - 0s - loss: 6.6405 - val_loss: 153.7991\n",
      "Epoch 172/200\n",
      " - 0s - loss: 11.9744 - val_loss: 154.8398\n",
      "Epoch 173/200\n",
      " - 0s - loss: 8.8447 - val_loss: 145.2072\n",
      "Epoch 174/200\n",
      " - 0s - loss: 7.7703 - val_loss: 138.0248\n",
      "Epoch 175/200\n",
      " - 0s - loss: 6.9314 - val_loss: 139.8042\n",
      "Epoch 176/200\n",
      " - 0s - loss: 6.9838 - val_loss: 158.1129\n",
      "Epoch 177/200\n",
      " - 0s - loss: 7.1366 - val_loss: 128.5466\n",
      "Epoch 178/200\n",
      " - 0s - loss: 7.7869 - val_loss: 142.5148\n",
      "Epoch 179/200\n",
      " - 0s - loss: 7.6633 - val_loss: 121.0468\n",
      "Epoch 180/200\n",
      " - 0s - loss: 6.6520 - val_loss: 122.8943\n",
      "Epoch 181/200\n",
      " - 0s - loss: 6.8923 - val_loss: 136.3911\n",
      "Epoch 182/200\n",
      " - 0s - loss: 8.2660 - val_loss: 142.7023\n",
      "Epoch 183/200\n",
      " - 0s - loss: 8.3237 - val_loss: 102.3439\n",
      "Epoch 184/200\n",
      " - 0s - loss: 7.7112 - val_loss: 123.9598\n",
      "Epoch 185/200\n",
      " - 0s - loss: 8.3700 - val_loss: 176.9839\n",
      "Epoch 186/200\n",
      " - 0s - loss: 9.1562 - val_loss: 148.4932\n",
      "Epoch 187/200\n",
      " - 0s - loss: 7.5080 - val_loss: 146.7585\n",
      "Epoch 188/200\n",
      " - 0s - loss: 7.7267 - val_loss: 136.8336\n",
      "Epoch 189/200\n",
      " - 0s - loss: 12.8124 - val_loss: 137.0786\n",
      "Epoch 190/200\n",
      " - 0s - loss: 9.0539 - val_loss: 131.6250\n",
      "Epoch 191/200\n",
      " - 0s - loss: 8.0148 - val_loss: 130.0881\n",
      "Epoch 192/200\n",
      " - 0s - loss: 7.4194 - val_loss: 160.1831\n",
      "Epoch 193/200\n",
      " - 0s - loss: 7.5379 - val_loss: 144.3161\n",
      "Epoch 194/200\n",
      " - 0s - loss: 7.5579 - val_loss: 158.1359\n",
      "Epoch 195/200\n",
      " - 0s - loss: 7.4892 - val_loss: 133.5760\n",
      "Epoch 196/200\n",
      " - 0s - loss: 5.9956 - val_loss: 135.5008\n",
      "Epoch 197/200\n",
      " - 0s - loss: 6.5230 - val_loss: 148.1540\n",
      "Epoch 198/200\n",
      " - 0s - loss: 7.4935 - val_loss: 115.4303\n",
      "Epoch 199/200\n",
      " - 0s - loss: 6.8475 - val_loss: 153.1754\n",
      "Epoch 200/200\n",
      " - 0s - loss: 6.5030 - val_loss: 118.6155\n",
      "Done\n"
     ]
    }
   ],
   "source": [
    "# build the model\n",
    "rmodel = regression_model()\n",
    "\n",
    "# fit the model\n",
    "rmodel.fit(predictors_norm, target, validation_split=0.3, epochs=200, verbose=2)\n",
    "print('Done')"
   ]
  },
  {
   "cell_type": "markdown",
   "metadata": {
    "button": false,
    "new_sheet": false,
    "run_control": {
     "read_only": false
    }
   },
   "source": [
    "<strong>You can refer to this [link](https://keras.io/models/sequential/) to learn about other functions that you can use for prediction or evaluation.</strong>"
   ]
  },
  {
   "cell_type": "code",
   "execution_count": 60,
   "metadata": {
    "pycharm": {
     "is_executing": true,
     "name": "#%%\n"
    }
   },
   "outputs": [
    {
     "name": "stdout",
     "output_type": "stream",
     "text": [
      "     Cement  Blast Furnace Slag  Fly Ash  Water  Superplasticizer  \\\n",
      "161   337.9               189.0      0.0  174.9               9.5   \n",
      "848   252.0                97.0     76.0  194.0               8.0   \n",
      "601   339.0                 0.0      0.0  197.0               0.0   \n",
      "178   286.3               200.9      0.0  144.7              11.2   \n",
      "269   231.8                 0.0    121.6  174.0               6.7   \n",
      "\n",
      "     Coarse Aggregate  Fine Aggregate  Age  Strength  \n",
      "161             944.7           755.8   56     59.89  \n",
      "848             835.0           821.0   28     33.40  \n",
      "601             968.0           781.0   28     32.04  \n",
      "178            1004.6           803.7   91     76.80  \n",
      "269            1056.4           778.5    3     15.44  \n",
      "5/5 [==============================] - 0s 11ms/step\n"
     ]
    },
    {
     "data": {
      "text/plain": [
       "array([[59.803814],\n",
       "       [35.54224 ],\n",
       "       [31.934269],\n",
       "       [76.19837 ],\n",
       "       [16.272955]], dtype=float32)"
      ]
     },
     "execution_count": 60,
     "metadata": {},
     "output_type": "execute_result"
    }
   ],
   "source": [
    "sample_data = concrete_data.sample(5)\n",
    "sample_predictors = sample_data[concrete_data_columns[concrete_data_columns != 'Strength']]\n",
    "sample_predictors_norm = (sample_predictors - predictors.mean()) / predictors.std()\n",
    "print(sample_data.head())\n",
    "rmodel.predict(sample_predictors_norm, verbose=1)\n"
   ]
  },
  {
   "cell_type": "markdown",
   "metadata": {
    "button": false,
    "new_sheet": false,
    "run_control": {
     "read_only": false
    }
   },
   "source": [
    "Feel free to vary the following and note what impact each change has on the model's performance:\n",
    "\n",
    "1. Increase or decrease number of neurons in hidden layers\n",
    "2. Add more hidden layers\n",
    "3. Increase number of epochs"
   ]
  },
  {
   "cell_type": "markdown",
   "metadata": {
    "button": false,
    "new_sheet": false,
    "run_control": {
     "read_only": false
    }
   },
   "source": [
    "### Thank you for completing this lab!\n",
    "\n",
    "This notebook was created by [Alex Aklson](https://www.linkedin.com/in/aklson/). I hope you found this lab interesting and educational. Feel free to contact me if you have any questions!"
   ]
  },
  {
   "cell_type": "markdown",
   "metadata": {
    "button": false,
    "new_sheet": false,
    "run_control": {
     "read_only": false
    }
   },
   "source": [
    "This notebook is part of a course on **edX** called *Deep Learning Fundamentals with Keras*. If you accessed this notebook outside the course, you can take this course online by clicking [here](http://cocl.us/DL0101EN_edX_Week3_LAB1)."
   ]
  },
  {
   "cell_type": "markdown",
   "metadata": {
    "button": false,
    "new_sheet": false,
    "run_control": {
     "read_only": false
    }
   },
   "source": [
    "<hr>\n",
    "\n",
    "Copyright &copy; 2018 [IBM Developer Skills Network](https://cognitiveclass.ai/?utm_source=bducopyrightlink&utm_medium=dswb&utm_campaign=bdu). This notebook and its source code are released under the terms of the [MIT License](https://bigdatauniversity.com/mit-license/)."
   ]
  },
  {
   "cell_type": "code",
   "execution_count": null,
   "metadata": {},
   "outputs": [],
   "source": []
  },
  {
   "cell_type": "code",
   "execution_count": null,
   "metadata": {},
   "outputs": [],
   "source": []
  },
  {
   "cell_type": "code",
   "execution_count": null,
   "metadata": {},
   "outputs": [],
   "source": []
  }
 ],
 "metadata": {
  "kernelspec": {
   "display_name": "Python 3",
   "language": "python",
   "name": "python3"
  },
  "language_info": {
   "codemirror_mode": {
    "name": "ipython",
    "version": 3
   },
   "file_extension": ".py",
   "mimetype": "text/x-python",
   "name": "python",
   "nbconvert_exporter": "python",
   "pygments_lexer": "ipython3",
   "version": "3.7.3"
  },
  "pycharm": {
   "stem_cell": {
    "cell_type": "raw",
    "metadata": {
     "collapsed": false
    },
    "source": []
   }
  }
 },
 "nbformat": 4,
 "nbformat_minor": 2
}

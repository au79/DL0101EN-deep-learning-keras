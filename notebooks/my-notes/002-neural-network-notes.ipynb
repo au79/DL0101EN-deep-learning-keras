{
 "cells": [
  {
   "cell_type": "markdown",
   "metadata": {
    "collapsed": true,
    "pycharm": {
     "name": "#%% md\n"
    }
   },
   "source": [
    "# Neural Network Notes\n",
    "\n",
    "My attempt to achieve a deeper understanding of neural networks and back-propagation.\n",
    "\n",
    "## Simple 2-node network "
   ]
  },
  {
   "cell_type": "code",
   "execution_count": 73,
   "outputs": [
    {
     "data": {
      "text/plain": "<Figure size 432x288 with 1 Axes>",
      "image/png": "[encoded data removed]"
     },
     "metadata": {
      "needs_background": "light"
     },
     "output_type": "display_data"
    }
   ],
   "source": [
    "from matplotlib import pyplot as plt\n",
    "\n",
    "circle1 = plt.Circle((5, 3), 1.5, facecolor='w', edgecolor='b')\n",
    "circle2 = plt.Circle((11, 3), 1.5, facecolor='w', edgecolor='b')\n",
    "\n",
    "fig, ax = plt.subplots() # note we must use plt.subplots, not plt.subplot\n",
    "ax.set_aspect(1)\n",
    "plt.xlim(0,16)\n",
    "plt.ylim(0,6)\n",
    "ax.add_artist(circle1)\n",
    "ax.add_artist(circle2)\n",
    "\n",
    "plt.plot((1.25,3.45), (3,3), color='b')\n",
    "plt.plot((6.55,9.45), (3,3), color='b')\n",
    "plt.plot((12.55,14.75), (3,3), color='b')\n",
    "\n",
    "plt.plot((1.5,3.85), (1,2), color='b')\n",
    "plt.plot((7.5,9.85), (1,2), color='b')\n",
    "\n",
    "plt.annotate('$x_1$', (1.5, 3.25))\n",
    "plt.annotate('$w_1$', (2.75, 3.25))\n",
    "\n",
    "plt.annotate('$b_1$', (1.5, 1.5))\n",
    "\n",
    "plt.annotate('$a_1$', (6.7, 3.25))\n",
    "plt.annotate('$w_2$', (8.75, 3.25))\n",
    "\n",
    "plt.annotate('$b_2$', (7.5, 1.5))\n",
    "\n",
    "plt.annotate('$a_2$', (12.7, 3.25))\n",
    "\n",
    "plt.annotate('$z =\\n w_1*x_1+b_1$', (4, 3))\n",
    "\n",
    "plt.show()"
   ],
   "metadata": {
    "collapsed": false,
    "pycharm": {
     "name": "#%%\n",
     "is_executing": false
    }
   }
  }
 ],
 "metadata": {
  "language_info": {
   "codemirror_mode": {
    "name": "ipython",
    "version": 2
   },
   "file_extension": ".py",
   "mimetype": "text/x-python",
   "name": "python",
   "nbconvert_exporter": "python",
   "pygments_lexer": "ipython2",
   "version": "2.7.6"
  },
  "kernelspec": {
   "name": "python3",
   "language": "python",
   "display_name": "Python 3"
  },
  "pycharm": {
   "stem_cell": {
    "cell_type": "raw",
    "source": [],
    "metadata": {
     "collapsed": false
    }
   }
  }
 },
 "nbformat": 4,
 "nbformat_minor": 0
}